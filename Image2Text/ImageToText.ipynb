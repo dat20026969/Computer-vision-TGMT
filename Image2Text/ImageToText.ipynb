{
  "nbformat": 4,
  "nbformat_minor": 0,
  "metadata": {
    "colab": {
      "provenance": [],
      "gpuType": "T4"
    },
    "kernelspec": {
      "name": "python3",
      "display_name": "Python 3"
    },
    "language_info": {
      "name": "python"
    },
    "accelerator": "GPU"
  },
  "cells": [
    {
      "cell_type": "code",
      "source": [
        "pip install --upgrade google-cloud-vision"
      ],
      "metadata": {
        "id": "7lEZIlazgpCj"
      },
      "execution_count": null,
      "outputs": []
    },
    {
      "cell_type": "code",
      "source": [
        "from google.colab import files\n",
        "import requests\n",
        "import matplotlib.pyplot as plt\n",
        "from PIL import Image\n",
        "from io import BytesIO\n",
        "\n",
        "# Tải lên hình ảnh từ máy tính của bạn\n",
        "uploaded = files.upload()\n",
        "image_path = next(iter(uploaded))\n",
        "\n",
        "# Đường dẫn đến API\n",
        "url = \"https://your-region.api.cognitive.microsoft.com/vision/v3.0/analyze\"\n",
        "\n",
        "# Các tham số cho yêu cầu\n",
        "params = {\n",
        "    'visualFeatures': 'Description',\n",
        "    'language': 'en'\n",
        "}\n",
        "\n",
        "# Tiêu đề cho yêu cầu bao gồm API key của bạn\n",
        "headers = {\n",
        "    'Ocp-Apim-Subscription-Key': 'your-subscription-key',\n",
        "    'Content-Type': 'application/octet-stream'\n",
        "}\n",
        "\n",
        "# Mở hình ảnh và gửi yêu cầu đến API\n",
        "with open(image_path, 'rb') as image_data:\n",
        "    response = requests.post(url, headers=headers, params=params, data=image_data)\n",
        "    response.raise_for_status()\n",
        "\n",
        "# Lấy kết quả từ API\n",
        "results = response.json()\n",
        "\n",
        "# In ra mô tả của hình ảnh\n",
        "print(results['description']['captions'][0]['text'])\n",
        "\n",
        "# Hiển thị hình ảnh\n",
        "image = Image.open(BytesIO(uploaded[image_path]))\n",
        "plt.imshow(image)\n",
        "plt.axis('off')\n"
      ],
      "metadata": {
        "id": "-SEKZjMkgyID"
      },
      "execution_count": null,
      "outputs": []
    }
  ]
}